{
 "cells": [
  {
   "cell_type": "markdown",
   "metadata": {},
   "source": [
    "# Bitcoin Sentiment Analysis\n",
    "\n",
    "This notebook demonstrates the BTC sentiment analysis pipeline."
   ]
  },
  {
   "cell_type": "code",
   "execution_count": null,
   "metadata": {},
   "outputs": [],
   "source": [
    "import sys\n",
    "sys.path.append('../src')\n",
    "\n",
    "from btc_sentiment.pipelines.ingest_pipeline import run_ingest_pipeline\n",
    "from btc_sentiment.utils.io import load_daily_sentiment\n",
    "from btc_sentiment.utils.visualizations import plot_daily_sentiment"
   ]
  },
  {
   "cell_type": "markdown",
   "metadata": {},
   "source": [
    "## Run Pipeline"
   ]
  },
  {
   "cell_type": "code",
   "execution_count": null,
   "metadata": {},
   "outputs": [],
   "source": [
    "daily_sentiment = run_ingest_pipeline(\n",
    "    days_back=7,\n",
    "    tweets_per_day=0,\n",
    "    messages_per_channel=500\n",
    ")\n",
    "\n",
    "if daily_sentiment:\n",
    "    print(f\"Successfully processed {len(daily_sentiment)} daily records\")\n",
    "else:\n",
    "    print(\"No data available. Check configuration.\")"
   ]
  },
  {
   "cell_type": "markdown",
   "metadata": {},
   "source": [
    "## Visualize Results"
   ]
  },
  {
   "cell_type": "code",
   "execution_count": null,
   "metadata": {},
   "outputs": [],
   "source": [
    "data = load_daily_sentiment()\n",
    "\n",
    "if data:\n",
    "    plot_daily_sentiment(data)\n",
    "    \n",
    "    import pandas as pd\n",
    "    df = pd.DataFrame([r.dict() for r in data])\n",
    "    print(f\"\\nAnalyzed {len(df)} days of data\")\n",
    "    print(f\"Total messages: {df['count'].sum():,}\")\n",
    "    print(f\"Average sentiment: {df['avg_score'].mean():.2f}\")\n",
    "else:\n",
    "    print(\"No data found. Run the pipeline first.\")"
   ]
  }
 ],
 "metadata": {
  "kernelspec": {
   "display_name": ".venv",
   "language": "python",
   "name": "python3"
  },
  "language_info": {
   "codemirror_mode": {
    "name": "ipython",
    "version": 3
   },
   "file_extension": ".py",
   "mimetype": "text/x-python",
   "name": "python",
   "nbconvert_exporter": "python",
   "pygments_lexer": "ipython3",
   "version": "3.11.9"
  }
 },
 "nbformat": 4,
 "nbformat_minor": 4
}